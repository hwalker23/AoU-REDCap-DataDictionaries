{
 "cells": [
  {
   "cell_type": "code",
   "execution_count": 1,
   "metadata": {},
   "outputs": [],
   "source": [
    "import logging\n",
    "import requests\n",
    "%run config.ipynb"
   ]
  },
  {
   "cell_type": "code",
   "execution_count": 2,
   "metadata": {},
   "outputs": [
    {
     "name": "stdout",
     "output_type": "stream",
     "text": [
      "done\n"
     ]
    }
   ],
   "source": [
    "USER_AGENT = 'survey update'\n",
    "logger = logging.getLogger(__name__)\n",
    "class RedcapApi(object):\n",
    "    def __init__(self, api_url):\n",
    "        self.api_url = api_url\n",
    "    def download_metadata(self, project_token, format='csv'):\n",
    "        \"\"\"Download the data dictionary for a project in the specified file format\n",
    "        Args:\n",
    "            project_token (str): API token associated with REDCap project\n",
    "            format (str): the format to download (csv|json)\n",
    "        Returns:\n",
    "            str: textual response from REDCap metadata endpoint\n",
    "        \"\"\"\n",
    "        data = {\n",
    "            'token': project_token,\n",
    "            'content': 'metadata',\n",
    "            'format': format\n",
    "        }\n",
    "        headers = {\n",
    "            # This header prevents blacklisting of the request\n",
    "            'User-Agent': USER_AGENT,\n",
    "            'Accept': 'application/json'\n",
    "        }\n",
    "        response = requests.post(self.api_url, data=data, headers=headers)\n",
    "        if response.status_code != 200:\n",
    "            logger.error(f'Received status code {response.status_code} retrieving data dictionary {name}.')\n",
    "        return response.text\n",
    "if __name__ == '__main__':\n",
    "    redcap = RedcapApi(config['api_url'])\n",
    "    projects = config.get('projects', {})\n",
    "    for name, token in projects.items():\n",
    "        csv_path=f'csv_repo/{name}.csv'\n",
    "        #print(name) # Test a bad response status code.\n",
    "        metadata = redcap.download_metadata(token)\n",
    "        with open(csv_path, 'w') as fp:\n",
    "            fp.write(metadata)\n",
    "print('done')"
   ]
  },
  {
   "cell_type": "code",
   "execution_count": null,
   "metadata": {},
   "outputs": [],
   "source": []
  }
 ],
 "metadata": {
  "kernelspec": {
   "display_name": "Python 3",
   "language": "python",
   "name": "python3"
  },
  "language_info": {
   "codemirror_mode": {
    "name": "ipython",
    "version": 3
   },
   "file_extension": ".py",
   "mimetype": "text/x-python",
   "name": "python",
   "nbconvert_exporter": "python",
   "pygments_lexer": "ipython3",
   "version": "3.8.5"
  }
 },
 "nbformat": 4,
 "nbformat_minor": 4
}
